{
 "cells": [
  {
   "cell_type": "markdown",
   "metadata": {},
   "source": [
    "## 1. Time Series Classification"
   ]
  },
  {
   "cell_type": "code",
   "execution_count": 308,
   "metadata": {
    "collapsed": true
   },
   "outputs": [],
   "source": [
    "import pandas as pd\n",
    "import numpy as np\n",
    "import matplotlib.pyplot as plt\n",
    "%matplotlib inline\n",
    "from pandas.plotting import scatter_matrix\n",
    "import os\n",
    "import matplotlib\n",
    "from sklearn.linear_model import LogisticRegression\n",
    "from sklearn.linear_model import LogisticRegressionCV\n",
    "from sklearn.naive_bayes import GaussianNB, MultinomialNB\n",
    "from sklearn.svm import SVC\n",
    "from sklearn.feature_selection import RFE\n",
    "from sklearn.feature_selection import chi2\n",
    "from sklearn.model_selection import KFold\n",
    "from sklearn.model_selection import StratifiedKFold\n",
    "from sklearn import metrics\n",
    "from sklearn.metrics import roc_curve, auc, confusion_matrix"
   ]
  },
  {
   "cell_type": "markdown",
   "metadata": {},
   "source": [
    "Keep datasets 1 and 2 in folders bending1 and bending 2, as well as datasets 1, 2, and 3 in other folders as test data and other datasets as train data."
   ]
  },
  {
   "cell_type": "markdown",
   "metadata": {},
   "source": [
    "Feature Extraction : Classification of time series usually needs extracting features from them. In this problem, we focus on time-domain features."
   ]
  },
  {
   "cell_type": "markdown",
   "metadata": {},
   "source": [
    "### Extracting (Mean,Min,Max,Median,10th Percentile, Range) for all 6 time series"
   ]
  },
  {
   "cell_type": "markdown",
   "metadata": {},
   "source": [
    "### Creating the train set"
   ]
  },
  {
   "cell_type": "code",
   "execution_count": 238,
   "metadata": {
    "collapsed": true
   },
   "outputs": [],
   "source": [
    "d_train = {}\n",
    "params = ['mean','min','max','median','p10','range']\n",
    "var = ['avg_rss12','var_rss12','avg_rss13','var_rss13','avg_rss23','var_rss23']\n",
    "for v in var:\n",
    "    for p in params:\n",
    "        d_train[v+\"_\"+p] = []\n",
    "d_train['activity'] = []"
   ]
  },
  {
   "cell_type": "code",
   "execution_count": 239,
   "metadata": {
    "collapsed": true
   },
   "outputs": [],
   "source": [
    "for activity in ['bending1','bending2','cycling','lying','sitting','standing','walking']:\n",
    "    path = '/Users/nikmag/Desktop/USC/INF_552_ML/HW2/AReM_1/{0}/train'.format(activity)\n",
    "    for filename in os.listdir(path):\n",
    "        df = pd.read_csv(path+'/'+filename,skiprows=4)\n",
    "        for v in var:\n",
    "            d_train[v+\"_\"+\"mean\"].append(np.mean(df[v]))\n",
    "            d_train[v+\"_\"+\"min\"].append(np.min(df[v]))\n",
    "            d_train[v+\"_\"+\"max\"].append(np.max(df[v]))\n",
    "            d_train[v+\"_\"+\"median\"].append(np.median(df[v]))\n",
    "            d_train[v+\"_\"+\"p10\"].append(np.percentile(df[v],10))\n",
    "            d_train[v+\"_\"+\"range\"].append(np.max(df[v])-np.min(df[v]))\n",
    "        d_train['activity'].append(activity)"
   ]
  },
  {
   "cell_type": "markdown",
   "metadata": {},
   "source": [
    "### Creating the test set"
   ]
  },
  {
   "cell_type": "code",
   "execution_count": 240,
   "metadata": {
    "collapsed": true
   },
   "outputs": [],
   "source": [
    "d_test = {}\n",
    "params = ['mean','min','max','median','p10','range']\n",
    "var = ['avg_rss12','var_rss12','avg_rss13','var_rss13','avg_rss23','var_rss23']\n",
    "for v in var:\n",
    "    for p in params:\n",
    "        d_test[v+\"_\"+p] = []\n",
    "d_test['activity'] = []"
   ]
  },
  {
   "cell_type": "code",
   "execution_count": 241,
   "metadata": {
    "collapsed": true
   },
   "outputs": [],
   "source": [
    "for activity in ['bending1','bending2','cycling','lying','sitting','standing','walking']:\n",
    "    path = '/Users/nikmag/Desktop/USC/INF_552_ML/HW2/AReM_1/{0}/test'.format(activity)\n",
    "    for filename in os.listdir(path):\n",
    "        df = pd.read_csv(path+'/'+filename,skiprows=4)\n",
    "        for v in var:\n",
    "            d_test[v+\"_\"+\"mean\"].append(np.mean(df[v]))\n",
    "            d_test[v+\"_\"+\"min\"].append(np.min(df[v]))\n",
    "            d_test[v+\"_\"+\"max\"].append(np.max(df[v]))\n",
    "            d_test[v+\"_\"+\"median\"].append(np.median(df[v]))\n",
    "            d_test[v+\"_\"+\"p10\"].append(np.percentile(df[v],10))\n",
    "            d_test[v+\"_\"+\"range\"].append(np.max(df[v])-np.min(df[v]))\n",
    "        d_test['activity'].append(activity)"
   ]
  },
  {
   "cell_type": "code",
   "execution_count": 242,
   "metadata": {
    "collapsed": true
   },
   "outputs": [],
   "source": [
    "df_train = pd.DataFrame(d_train)\n",
    "df_test = pd.DataFrame(d_test)"
   ]
  },
  {
   "cell_type": "markdown",
   "metadata": {},
   "source": [
    "### Combining the train and test sets for bootstrap sampling"
   ]
  },
  {
   "cell_type": "code",
   "execution_count": 243,
   "metadata": {
    "collapsed": true
   },
   "outputs": [],
   "source": [
    "df = pd.concat([df_train,df_test],ignore_index=True)"
   ]
  },
  {
   "cell_type": "markdown",
   "metadata": {},
   "source": [
    "Estimate the standard deviation of each of the time-domain features you extracted from the data. Then, use Python’s bootstrapped or any other method to build a bootsrap confidence interval for the standard deviation of each feature."
   ]
  },
  {
   "cell_type": "markdown",
   "metadata": {},
   "source": [
    "### Calculating the standard deviation"
   ]
  },
  {
   "cell_type": "code",
   "execution_count": 9,
   "metadata": {
    "collapsed": true
   },
   "outputs": [],
   "source": [
    "df_bootstrap = df.describe()[df.describe().index == 'std']"
   ]
  },
  {
   "cell_type": "markdown",
   "metadata": {},
   "source": [
    "### Using Bootstrap to find 95% Confidence Interval"
   ]
  },
  {
   "cell_type": "code",
   "execution_count": 10,
   "metadata": {
    "collapsed": true
   },
   "outputs": [],
   "source": [
    "d_ci1 = {k:object for k in df.columns.tolist()}\n",
    "d_ci2 = {k:object for k in df.columns.tolist()}"
   ]
  },
  {
   "cell_type": "code",
   "execution_count": 11,
   "metadata": {
    "collapsed": true
   },
   "outputs": [],
   "source": [
    "for col in df.columns.tolist():\n",
    "    bootstrap = []\n",
    "    for i in range(0,1000):\n",
    "        sample = np.random.choice(df[col],size=88,replace=True)\n",
    "        bootstrap.append(np.std(sample))\n",
    "    bootstrap.sort()\n",
    "    d_ci1[col] = bootstrap[24]\n",
    "    d_ci2[col] = bootstrap[974]"
   ]
  },
  {
   "cell_type": "code",
   "execution_count": 12,
   "metadata": {
    "collapsed": true
   },
   "outputs": [],
   "source": [
    "df_bootstrap.loc['Confidence Interval_2.5%',:] = d_ci1\n",
    "df_bootstrap.loc['Confidence Interval_97.5%',:] = d_ci2"
   ]
  },
  {
   "cell_type": "code",
   "execution_count": 13,
   "metadata": {
    "collapsed": true
   },
   "outputs": [],
   "source": [
    "df_bootstrap = df_bootstrap.T"
   ]
  },
  {
   "cell_type": "code",
   "execution_count": 14,
   "metadata": {
    "collapsed": true
   },
   "outputs": [],
   "source": [
    "df_bootstrap.rename(columns={'std':'Standard Deviation Estimate'},inplace=True)"
   ]
  },
  {
   "cell_type": "code",
   "execution_count": 15,
   "metadata": {},
   "outputs": [
    {
     "data": {
      "text/html": [
       "<div>\n",
       "<style>\n",
       "    .dataframe thead tr:only-child th {\n",
       "        text-align: right;\n",
       "    }\n",
       "\n",
       "    .dataframe thead th {\n",
       "        text-align: left;\n",
       "    }\n",
       "\n",
       "    .dataframe tbody tr th {\n",
       "        vertical-align: top;\n",
       "    }\n",
       "</style>\n",
       "<table border=\"1\" class=\"dataframe\">\n",
       "  <thead>\n",
       "    <tr style=\"text-align: right;\">\n",
       "      <th></th>\n",
       "      <th>Standard Deviation Estimate</th>\n",
       "      <th>Confidence Interval_2.5%</th>\n",
       "      <th>Confidence Interval_97.5%</th>\n",
       "    </tr>\n",
       "  </thead>\n",
       "  <tbody>\n",
       "    <tr>\n",
       "      <th>avg_rss12_max</th>\n",
       "      <td>4.394362</td>\n",
       "      <td>3.086221</td>\n",
       "      <td>5.503041</td>\n",
       "    </tr>\n",
       "    <tr>\n",
       "      <th>avg_rss12_mean</th>\n",
       "      <td>5.335718</td>\n",
       "      <td>4.600517</td>\n",
       "      <td>5.941605</td>\n",
       "    </tr>\n",
       "    <tr>\n",
       "      <th>avg_rss12_median</th>\n",
       "      <td>5.440054</td>\n",
       "      <td>4.621198</td>\n",
       "      <td>6.011958</td>\n",
       "    </tr>\n",
       "    <tr>\n",
       "      <th>avg_rss12_min</th>\n",
       "      <td>9.569975</td>\n",
       "      <td>8.000321</td>\n",
       "      <td>10.945635</td>\n",
       "    </tr>\n",
       "    <tr>\n",
       "      <th>avg_rss12_p10</th>\n",
       "      <td>6.779123</td>\n",
       "      <td>5.965771</td>\n",
       "      <td>7.317881</td>\n",
       "    </tr>\n",
       "    <tr>\n",
       "      <th>avg_rss12_range</th>\n",
       "      <td>9.713457</td>\n",
       "      <td>8.197083</td>\n",
       "      <td>10.897441</td>\n",
       "    </tr>\n",
       "    <tr>\n",
       "      <th>avg_rss13_max</th>\n",
       "      <td>4.875137</td>\n",
       "      <td>4.057135</td>\n",
       "      <td>5.523297</td>\n",
       "    </tr>\n",
       "    <tr>\n",
       "      <th>avg_rss13_mean</th>\n",
       "      <td>4.008380</td>\n",
       "      <td>3.291098</td>\n",
       "      <td>4.495014</td>\n",
       "    </tr>\n",
       "    <tr>\n",
       "      <th>avg_rss13_median</th>\n",
       "      <td>4.036396</td>\n",
       "      <td>3.325134</td>\n",
       "      <td>4.550776</td>\n",
       "    </tr>\n",
       "    <tr>\n",
       "      <th>avg_rss13_min</th>\n",
       "      <td>2.956462</td>\n",
       "      <td>2.717210</td>\n",
       "      <td>3.115735</td>\n",
       "    </tr>\n",
       "    <tr>\n",
       "      <th>avg_rss13_p10</th>\n",
       "      <td>4.299485</td>\n",
       "      <td>3.663045</td>\n",
       "      <td>4.796216</td>\n",
       "    </tr>\n",
       "    <tr>\n",
       "      <th>avg_rss13_range</th>\n",
       "      <td>4.173664</td>\n",
       "      <td>3.525790</td>\n",
       "      <td>4.713887</td>\n",
       "    </tr>\n",
       "    <tr>\n",
       "      <th>avg_rss23_max</th>\n",
       "      <td>5.741238</td>\n",
       "      <td>4.527498</td>\n",
       "      <td>6.663381</td>\n",
       "    </tr>\n",
       "    <tr>\n",
       "      <th>avg_rss23_mean</th>\n",
       "      <td>5.675593</td>\n",
       "      <td>4.167095</td>\n",
       "      <td>6.900498</td>\n",
       "    </tr>\n",
       "    <tr>\n",
       "      <th>avg_rss23_median</th>\n",
       "      <td>5.813782</td>\n",
       "      <td>4.241247</td>\n",
       "      <td>7.066516</td>\n",
       "    </tr>\n",
       "    <tr>\n",
       "      <th>avg_rss23_min</th>\n",
       "      <td>6.124001</td>\n",
       "      <td>4.043153</td>\n",
       "      <td>7.850465</td>\n",
       "    </tr>\n",
       "    <tr>\n",
       "      <th>avg_rss23_p10</th>\n",
       "      <td>6.070124</td>\n",
       "      <td>4.631574</td>\n",
       "      <td>7.182599</td>\n",
       "    </tr>\n",
       "    <tr>\n",
       "      <th>avg_rss23_range</th>\n",
       "      <td>4.935438</td>\n",
       "      <td>3.680115</td>\n",
       "      <td>6.020543</td>\n",
       "    </tr>\n",
       "    <tr>\n",
       "      <th>var_rss12_max</th>\n",
       "      <td>5.062729</td>\n",
       "      <td>4.510644</td>\n",
       "      <td>5.476238</td>\n",
       "    </tr>\n",
       "    <tr>\n",
       "      <th>var_rss12_mean</th>\n",
       "      <td>1.574164</td>\n",
       "      <td>1.347796</td>\n",
       "      <td>1.718709</td>\n",
       "    </tr>\n",
       "    <tr>\n",
       "      <th>var_rss12_median</th>\n",
       "      <td>1.412244</td>\n",
       "      <td>1.173463</td>\n",
       "      <td>1.563366</td>\n",
       "    </tr>\n",
       "    <tr>\n",
       "      <th>var_rss12_min</th>\n",
       "      <td>0.000000</td>\n",
       "      <td>0.000000</td>\n",
       "      <td>0.000000</td>\n",
       "    </tr>\n",
       "    <tr>\n",
       "      <th>var_rss12_p10</th>\n",
       "      <td>0.569894</td>\n",
       "      <td>0.476207</td>\n",
       "      <td>0.631898</td>\n",
       "    </tr>\n",
       "    <tr>\n",
       "      <th>var_rss12_range</th>\n",
       "      <td>5.062729</td>\n",
       "      <td>4.567416</td>\n",
       "      <td>5.427525</td>\n",
       "    </tr>\n",
       "    <tr>\n",
       "      <th>var_rss13_max</th>\n",
       "      <td>2.183625</td>\n",
       "      <td>1.936964</td>\n",
       "      <td>2.380093</td>\n",
       "    </tr>\n",
       "    <tr>\n",
       "      <th>var_rss13_mean</th>\n",
       "      <td>1.166114</td>\n",
       "      <td>1.044677</td>\n",
       "      <td>1.217170</td>\n",
       "    </tr>\n",
       "    <tr>\n",
       "      <th>var_rss13_median</th>\n",
       "      <td>1.145586</td>\n",
       "      <td>1.027977</td>\n",
       "      <td>1.204605</td>\n",
       "    </tr>\n",
       "    <tr>\n",
       "      <th>var_rss13_min</th>\n",
       "      <td>0.000000</td>\n",
       "      <td>0.000000</td>\n",
       "      <td>0.000000</td>\n",
       "    </tr>\n",
       "    <tr>\n",
       "      <th>var_rss13_p10</th>\n",
       "      <td>0.559581</td>\n",
       "      <td>0.496879</td>\n",
       "      <td>0.596099</td>\n",
       "    </tr>\n",
       "    <tr>\n",
       "      <th>var_rss13_range</th>\n",
       "      <td>2.183625</td>\n",
       "      <td>1.915177</td>\n",
       "      <td>2.380792</td>\n",
       "    </tr>\n",
       "    <tr>\n",
       "      <th>var_rss23_max</th>\n",
       "      <td>2.518921</td>\n",
       "      <td>2.187552</td>\n",
       "      <td>2.762413</td>\n",
       "    </tr>\n",
       "    <tr>\n",
       "      <th>var_rss23_mean</th>\n",
       "      <td>1.154812</td>\n",
       "      <td>1.031017</td>\n",
       "      <td>1.215098</td>\n",
       "    </tr>\n",
       "    <tr>\n",
       "      <th>var_rss23_median</th>\n",
       "      <td>1.086474</td>\n",
       "      <td>0.961804</td>\n",
       "      <td>1.152890</td>\n",
       "    </tr>\n",
       "    <tr>\n",
       "      <th>var_rss23_min</th>\n",
       "      <td>0.045838</td>\n",
       "      <td>0.000000</td>\n",
       "      <td>0.078029</td>\n",
       "    </tr>\n",
       "    <tr>\n",
       "      <th>var_rss23_p10</th>\n",
       "      <td>0.553815</td>\n",
       "      <td>0.493768</td>\n",
       "      <td>0.588450</td>\n",
       "    </tr>\n",
       "    <tr>\n",
       "      <th>var_rss23_range</th>\n",
       "      <td>2.514354</td>\n",
       "      <td>2.185755</td>\n",
       "      <td>2.783311</td>\n",
       "    </tr>\n",
       "  </tbody>\n",
       "</table>\n",
       "</div>"
      ],
      "text/plain": [
       "                  Standard Deviation Estimate  Confidence Interval_2.5%  \\\n",
       "avg_rss12_max                        4.394362                  3.086221   \n",
       "avg_rss12_mean                       5.335718                  4.600517   \n",
       "avg_rss12_median                     5.440054                  4.621198   \n",
       "avg_rss12_min                        9.569975                  8.000321   \n",
       "avg_rss12_p10                        6.779123                  5.965771   \n",
       "avg_rss12_range                      9.713457                  8.197083   \n",
       "avg_rss13_max                        4.875137                  4.057135   \n",
       "avg_rss13_mean                       4.008380                  3.291098   \n",
       "avg_rss13_median                     4.036396                  3.325134   \n",
       "avg_rss13_min                        2.956462                  2.717210   \n",
       "avg_rss13_p10                        4.299485                  3.663045   \n",
       "avg_rss13_range                      4.173664                  3.525790   \n",
       "avg_rss23_max                        5.741238                  4.527498   \n",
       "avg_rss23_mean                       5.675593                  4.167095   \n",
       "avg_rss23_median                     5.813782                  4.241247   \n",
       "avg_rss23_min                        6.124001                  4.043153   \n",
       "avg_rss23_p10                        6.070124                  4.631574   \n",
       "avg_rss23_range                      4.935438                  3.680115   \n",
       "var_rss12_max                        5.062729                  4.510644   \n",
       "var_rss12_mean                       1.574164                  1.347796   \n",
       "var_rss12_median                     1.412244                  1.173463   \n",
       "var_rss12_min                        0.000000                  0.000000   \n",
       "var_rss12_p10                        0.569894                  0.476207   \n",
       "var_rss12_range                      5.062729                  4.567416   \n",
       "var_rss13_max                        2.183625                  1.936964   \n",
       "var_rss13_mean                       1.166114                  1.044677   \n",
       "var_rss13_median                     1.145586                  1.027977   \n",
       "var_rss13_min                        0.000000                  0.000000   \n",
       "var_rss13_p10                        0.559581                  0.496879   \n",
       "var_rss13_range                      2.183625                  1.915177   \n",
       "var_rss23_max                        2.518921                  2.187552   \n",
       "var_rss23_mean                       1.154812                  1.031017   \n",
       "var_rss23_median                     1.086474                  0.961804   \n",
       "var_rss23_min                        0.045838                  0.000000   \n",
       "var_rss23_p10                        0.553815                  0.493768   \n",
       "var_rss23_range                      2.514354                  2.185755   \n",
       "\n",
       "                  Confidence Interval_97.5%  \n",
       "avg_rss12_max                      5.503041  \n",
       "avg_rss12_mean                     5.941605  \n",
       "avg_rss12_median                   6.011958  \n",
       "avg_rss12_min                     10.945635  \n",
       "avg_rss12_p10                      7.317881  \n",
       "avg_rss12_range                   10.897441  \n",
       "avg_rss13_max                      5.523297  \n",
       "avg_rss13_mean                     4.495014  \n",
       "avg_rss13_median                   4.550776  \n",
       "avg_rss13_min                      3.115735  \n",
       "avg_rss13_p10                      4.796216  \n",
       "avg_rss13_range                    4.713887  \n",
       "avg_rss23_max                      6.663381  \n",
       "avg_rss23_mean                     6.900498  \n",
       "avg_rss23_median                   7.066516  \n",
       "avg_rss23_min                      7.850465  \n",
       "avg_rss23_p10                      7.182599  \n",
       "avg_rss23_range                    6.020543  \n",
       "var_rss12_max                      5.476238  \n",
       "var_rss12_mean                     1.718709  \n",
       "var_rss12_median                   1.563366  \n",
       "var_rss12_min                      0.000000  \n",
       "var_rss12_p10                      0.631898  \n",
       "var_rss12_range                    5.427525  \n",
       "var_rss13_max                      2.380093  \n",
       "var_rss13_mean                     1.217170  \n",
       "var_rss13_median                   1.204605  \n",
       "var_rss13_min                      0.000000  \n",
       "var_rss13_p10                      0.596099  \n",
       "var_rss13_range                    2.380792  \n",
       "var_rss23_max                      2.762413  \n",
       "var_rss23_mean                     1.215098  \n",
       "var_rss23_median                   1.152890  \n",
       "var_rss23_min                      0.078029  \n",
       "var_rss23_p10                      0.588450  \n",
       "var_rss23_range                    2.783311  "
      ]
     },
     "execution_count": 15,
     "metadata": {},
     "output_type": "execute_result"
    }
   ],
   "source": [
    "df_bootstrap"
   ]
  },
  {
   "cell_type": "markdown",
   "metadata": {},
   "source": [
    "### Binary Classification Using Logistic Regression"
   ]
  },
  {
   "cell_type": "markdown",
   "metadata": {},
   "source": [
    "Assume that you want to use the training set to classify bending from other activities, i.e. you have a binary classification problem. Depict scatter plots of the features you specified in 1(c)iv extracted from time series 1, 2, and 6 of each instance, and use color to distinguish bending vs. other activities. (See p. 120 of the textbook).2"
   ]
  },
  {
   "cell_type": "code",
   "execution_count": 244,
   "metadata": {
    "collapsed": true
   },
   "outputs": [],
   "source": [
    "cols = [col for col in df.columns.tolist() if col.endswith('p10') or col.endswith('median') or col.endswith('max') or col == 'activity']"
   ]
  },
  {
   "cell_type": "code",
   "execution_count": 245,
   "metadata": {
    "collapsed": true
   },
   "outputs": [],
   "source": [
    "df = df[cols]"
   ]
  },
  {
   "cell_type": "code",
   "execution_count": 248,
   "metadata": {
    "collapsed": true
   },
   "outputs": [],
   "source": [
    "df_train = df.iloc[0:69,:]\n",
    "df_test = df.iloc[69:,:]"
   ]
  },
  {
   "cell_type": "code",
   "execution_count": 249,
   "metadata": {
    "collapsed": true
   },
   "outputs": [
    {
     "name": "stderr",
     "output_type": "stream",
     "text": [
      "/anaconda3/lib/python3.6/site-packages/ipykernel_launcher.py:1: SettingWithCopyWarning: \n",
      "A value is trying to be set on a copy of a slice from a DataFrame.\n",
      "Try using .loc[row_indexer,col_indexer] = value instead\n",
      "\n",
      "See the caveats in the documentation: http://pandas.pydata.org/pandas-docs/stable/indexing.html#indexing-view-versus-copy\n",
      "  \"\"\"Entry point for launching an IPython kernel.\n"
     ]
    }
   ],
   "source": [
    "df_train['activity'] = np.where(((df_train['activity'] == 'bending1')|(df_train['activity'] == 'bending2')),'bending','not-bending')"
   ]
  },
  {
   "cell_type": "code",
   "execution_count": 250,
   "metadata": {
    "collapsed": true
   },
   "outputs": [
    {
     "name": "stderr",
     "output_type": "stream",
     "text": [
      "/anaconda3/lib/python3.6/site-packages/ipykernel_launcher.py:1: SettingWithCopyWarning: \n",
      "A value is trying to be set on a copy of a slice from a DataFrame.\n",
      "Try using .loc[row_indexer,col_indexer] = value instead\n",
      "\n",
      "See the caveats in the documentation: http://pandas.pydata.org/pandas-docs/stable/indexing.html#indexing-view-versus-copy\n",
      "  \"\"\"Entry point for launching an IPython kernel.\n"
     ]
    }
   ],
   "source": [
    "df_test['activity'] = np.where(((df_test['activity'] == 'bending1')|(df_test['activity'] == 'bending2')),'bending','not-bending')"
   ]
  },
  {
   "cell_type": "code",
   "execution_count": 256,
   "metadata": {
    "collapsed": true
   },
   "outputs": [],
   "source": [
    "cols = [col for col in df.columns.tolist() if col.startswith('avg_rss12') or col.startswith('var_rss12') or col.startswith('var_rss23') or col == 'activity']"
   ]
  },
  {
   "cell_type": "code",
   "execution_count": 257,
   "metadata": {
    "collapsed": true
   },
   "outputs": [],
   "source": [
    "df_train_i = df_train[cols]"
   ]
  },
  {
   "cell_type": "code",
   "execution_count": 278,
   "metadata": {
    "collapsed": true
   },
   "outputs": [],
   "source": [
    "df_temp = pd.DataFrame('a',columns=['col'],index=[i for i in range(0,621)])"
   ]
  },
  {
   "cell_type": "code",
   "execution_count": 279,
   "metadata": {
    "collapsed": true
   },
   "outputs": [],
   "source": [
    "df_temp['val'] = 0\n",
    "df_temp['activity'] = 'b'"
   ]
  },
  {
   "cell_type": "code",
   "execution_count": 280,
   "metadata": {
    "collapsed": true
   },
   "outputs": [],
   "source": [
    "j = 0\n",
    "k = 1\n",
    "for col in df_train_i.columns.tolist()[1:]:\n",
    "    for i in range(0,69):\n",
    "        df_temp.loc[j,'val'] = df_train_i.loc[i,col]\n",
    "        df_temp.loc[j,'col'] = str(k)\n",
    "        j = j + 1\n",
    "    k = k + 1"
   ]
  },
  {
   "cell_type": "code",
   "execution_count": 281,
   "metadata": {
    "collapsed": true
   },
   "outputs": [],
   "source": [
    "j = 0\n",
    "for i in range(0,621):\n",
    "    df_temp.loc[i,'activity'] = df_train_i.loc[j,'activity']\n",
    "    j = j + 1\n",
    "    if j == 69:\n",
    "        j=0"
   ]
  },
  {
   "cell_type": "code",
   "execution_count": 282,
   "metadata": {
    "collapsed": true
   },
   "outputs": [],
   "source": [
    "df_temp['activity_int'] = np.where(df_temp['activity'] == 'bending',1,0)"
   ]
  },
  {
   "cell_type": "code",
   "execution_count": 283,
   "metadata": {},
   "outputs": [
    {
     "data": {
      "image/png": "[encoded data removed]",
      "text/plain": [
       "<matplotlib.figure.Figure at 0x11fbb97b8>"
      ]
     },
     "metadata": {},
     "output_type": "display_data"
    }
   ],
   "source": [
    "a=plt.scatter(df_temp['col'],df_temp['val'],c=df_temp['activity_int'],)\n",
    "plt.title('Scatterplot of each variable')\n",
    "plt.show()"
   ]
  },
  {
   "cell_type": "markdown",
   "metadata": {},
   "source": [
    "Answer i. -> The scatterplot shows bending in colour yellow and not bending in colour purple. This shows an imbalanced class distribution"
   ]
  },
  {
   "cell_type": "markdown",
   "metadata": {},
   "source": [
    "Break each time series in your training set into two (approximately) equal length time series and repeat the experiment in 1(d)i. Do you see any con- siderable difference in the results with those of 1(d)i?"
   ]
  },
  {
   "cell_type": "code",
   "execution_count": 291,
   "metadata": {
    "collapsed": true
   },
   "outputs": [],
   "source": [
    "d_train = {}\n",
    "params = ['max','median','p10']\n",
    "var = ['avg_rss12','var_rss12','var_rss23']\n",
    "for v in var:\n",
    "    for p in params:\n",
    "        d_train[v+\"_\"+p] = []\n",
    "d_train['activity'] = []"
   ]
  },
  {
   "cell_type": "code",
   "execution_count": 292,
   "metadata": {
    "collapsed": true
   },
   "outputs": [],
   "source": [
    "for activity in ['bending1','bending2','cycling','lying','sitting','standing','walking']:\n",
    "    path = '/Users/nikmag/Desktop/USC/INF_552_ML/HW2/AReM_1/{0}/train'.format(activity)\n",
    "    for filename in os.listdir(path):\n",
    "        df = pd.read_csv(path+'/'+filename,skiprows=4)\n",
    "        df_l = np.array_split(df,2)\n",
    "        for l in df_l:\n",
    "            for v in var:\n",
    "                d_train[v+\"_\"+\"max\"].append(np.max(l[v]))\n",
    "                d_train[v+\"_\"+\"median\"].append(np.median(l[v]))\n",
    "                d_train[v+\"_\"+\"p10\"].append(np.percentile(l[v],10))\n",
    "            d_train['activity'].append(activity)"
   ]
  },
  {
   "cell_type": "code",
   "execution_count": 293,
   "metadata": {
    "collapsed": true
   },
   "outputs": [],
   "source": [
    "df_train = pd.DataFrame(d_train)"
   ]
  },
  {
   "cell_type": "code",
   "execution_count": 297,
   "metadata": {
    "collapsed": true
   },
   "outputs": [],
   "source": [
    "df_train['activity'] = np.where(((df_train['activity'] == 'bending1')|(df_train['activity'] == 'bending2')),'bending','not-bending')"
   ]
  },
  {
   "cell_type": "code",
   "execution_count": 303,
   "metadata": {
    "collapsed": true
   },
   "outputs": [],
   "source": [
    "df_temp = pd.DataFrame('a',columns=['col'],index=[i for i in range(0,1242)])"
   ]
  },
  {
   "cell_type": "code",
   "execution_count": 304,
   "metadata": {
    "collapsed": true
   },
   "outputs": [],
   "source": [
    "df_temp['val'] = 0\n",
    "df_temp['activity'] = 'b'"
   ]
  },
  {
   "cell_type": "code",
   "execution_count": 306,
   "metadata": {
    "collapsed": true
   },
   "outputs": [],
   "source": [
    "j = 0\n",
    "k = 1\n",
    "for col in df_train.columns.tolist()[1:]:\n",
    "    for i in range(0,138):\n",
    "        df_temp.loc[j,'val'] = df_train.loc[i,col]\n",
    "        df_temp.loc[j,'col'] = str(k)\n",
    "        j = j + 1\n",
    "    k = k + 1"
   ]
  },
  {
   "cell_type": "code",
   "execution_count": 308,
   "metadata": {
    "collapsed": true
   },
   "outputs": [],
   "source": [
    "j = 0\n",
    "for i in range(0,1242):\n",
    "    df_temp.loc[i,'activity'] = df_train.loc[j,'activity']\n",
    "    j = j + 1\n",
    "    if j == 138:\n",
    "        j=0"
   ]
  },
  {
   "cell_type": "code",
   "execution_count": 309,
   "metadata": {
    "collapsed": true
   },
   "outputs": [],
   "source": [
    "df_temp['activity_int'] = np.where(df_temp['activity'] == 'bending',1,0)"
   ]
  },
  {
   "cell_type": "code",
   "execution_count": 310,
   "metadata": {},
   "outputs": [
    {
     "data": {
      "image/png": "[encoded data removed]",
      "text/plain": [
       "<matplotlib.figure.Figure at 0x1213175c0>"
      ]
     },
     "metadata": {},
     "output_type": "display_data"
    }
   ],
   "source": [
    "a=plt.scatter(df_temp['col'],df_temp['val'],c=df_temp['activity_int'])\n",
    "plt.title('Scatterplot of each variable')\n",
    "plt.show()"
   ]
  },
  {
   "cell_type": "markdown",
   "metadata": {},
   "source": [
    "Answer ii. -> There is not a considerable difference between the two scatterplots"
   ]
  },
  {
   "cell_type": "markdown",
   "metadata": {},
   "source": [
    "Break each time series in your training set into l ∈ {1, 2, . . . , 10}3 time series of approximately equal length and use logistic regression to solve the binary classification problem, using time-domain features. Calculate the p-values for your logistic regression parameters and refit a logistic regression model using your pruned set of features.4 Alternatively, you can use backward selection using sklearn.feature selection or glm in R. Use 5-fold cross-validation to de- termine the best value of l. Explain what the right way and the wrong way are to perform cross-validation in this problem. Obviously, use the right way!"
   ]
  },
  {
   "cell_type": "markdown",
   "metadata": {},
   "source": [
    "### Breaking each time series in the training set into L = {1,2,3,....,10,11,....,20} and performing Logistic Regression to build the binary classification models using 5-Fold cross validation "
   ]
  },
  {
   "cell_type": "code",
   "execution_count": 2,
   "metadata": {
    "collapsed": true
   },
   "outputs": [],
   "source": [
    "d={}\n",
    "d1 = {}\n",
    "params = ['max','median','p10']\n",
    "var1 = ['avg_rss12','var_rss12','avg_rss13','var_rss13','avg_rss23','var_rss23']\n",
    "for l in range(1,21):\n",
    "    d_train = {}\n",
    "    for v in var1:\n",
    "        for p in params:\n",
    "            d_train[v+\"_\"+p] = []\n",
    "    d_train['activity'] = []\n",
    "    \n",
    "    for activity in ['bending1','bending2','cycling','lying','sitting','standing','walking']:\n",
    "        path = '/Users/nikmag/Desktop/USC/INF_552_ML/HW2/AReM_1/{0}/train'.format(activity)\n",
    "        for filename in os.listdir(path):\n",
    "            df = pd.read_csv(path+'/'+filename,skiprows=4)\n",
    "            df_l = np.array_split(df,l)\n",
    "            for li in df_l:\n",
    "                for v in var1:\n",
    "                    d_train[v+\"_\"+\"max\"].append(np.max(li[v]))\n",
    "                    d_train[v+\"_\"+\"median\"].append(np.median(li[v]))\n",
    "                    d_train[v+\"_\"+\"p10\"].append(np.percentile(li[v],10))\n",
    "                d_train['activity'].append(activity)\n",
    "    df_train = pd.DataFrame(d_train)\n",
    "    df_train['activity'] = np.where(((df_train['activity'] == 'bending1')|(df_train['activity'] == 'bending2')),'bending','not-bending')\n",
    "    \n",
    "    df_train = df_train.sample(frac=1,random_state=123).reset_index(drop=True)\n",
    "    X = df_train.loc[:,df_train.columns!='activity']\n",
    "    y = df_train['activity']\n",
    "    \n",
    "    auc1 = []\n",
    "    l1 = []\n",
    "    l2 = []\n",
    "    \n",
    "    kf = KFold(n_splits=5)\n",
    "    \n",
    "    for train_index,val_index in kf.split(X):\n",
    "        X_train, X_val = X.iloc[train_index.tolist(),:], X.iloc[val_index.tolist(),:]\n",
    "        y_train, y_val = y[train_index.tolist()], y[val_index.tolist()]\n",
    "        if len(np.unique(y_val)) == 1:\n",
    "            continue\n",
    "            \n",
    "        model = LogisticRegression()\n",
    "        model = model.fit(X_train, y_train)\n",
    "        actual = [1 if i == 'bending' else 0 for i in y_val.tolist()]\n",
    "        predicted = [1 if i == 'bending' else 0 for i in model.predict(X_val).tolist()]\n",
    "        fpr, tpr, _ = roc_curve(actual,predicted)\n",
    "        auc1.append(auc(fpr, tpr))\n",
    "        l1.append(train_index.tolist())\n",
    "        l2.append(val_index.tolist())\n",
    "    d[l] = tuple(zip(auc1,l1,l2))\n",
    "    d1[l] = np.mean(auc1)"
   ]
  },
  {
   "cell_type": "code",
   "execution_count": 3,
   "metadata": {
    "collapsed": true
   },
   "outputs": [],
   "source": [
    "iii = pd.DataFrame(d1,index=[0])\n",
    "iii = iii.T\n",
    "iii['L'] = iii.index\n",
    "iii.rename(columns={0:'Mean AUC across the folds'},inplace=True)\n",
    "iii = iii[['L','Mean AUC across the folds']]"
   ]
  },
  {
   "cell_type": "markdown",
   "metadata": {},
   "source": [
    "### Finding the best subset of features on the dataset using Backward selection and 5-fold cross validation for best L = 1"
   ]
  },
  {
   "cell_type": "code",
   "execution_count": 9,
   "metadata": {
    "collapsed": true
   },
   "outputs": [],
   "source": [
    "L = 1\n",
    "d_train = {}\n",
    "for v in var1:\n",
    "    for p in params:\n",
    "        d_train[v+\"_\"+p] = []\n",
    "d_train['activity'] = []\n",
    "\n",
    "for activity in ['bending1','bending2','cycling','lying','sitting','standing','walking']:\n",
    "    path = '/Users/nikmag/Desktop/USC/INF_552_ML/HW2/AReM_1/{0}/train'.format(activity)\n",
    "    for filename in os.listdir(path):\n",
    "        df = pd.read_csv(path+'/'+filename,skiprows=4)\n",
    "        df_l = np.array_split(df,L)\n",
    "        for li in df_l:\n",
    "            for v in var1:\n",
    "                d_train[v+\"_\"+\"max\"].append(np.max(li[v]))\n",
    "                d_train[v+\"_\"+\"median\"].append(np.median(li[v]))\n",
    "                d_train[v+\"_\"+\"p10\"].append(np.percentile(li[v],10))\n",
    "            d_train['activity'].append(activity)\n",
    "df_train = pd.DataFrame(d_train)\n",
    "df_train['activity'] = np.where(((df_train['activity'] == 'bending1')|(df_train['activity'] == 'bending2')),'bending','not-bending')\n",
    "df_train = df_train.sample(frac=1,random_state=123).reset_index(drop=True)\n",
    "X = df_train.loc[:,df_train.columns!='activity']\n",
    "y = df_train['activity']\n",
    "\n",
    "auc1 = []\n",
    "variables = []\n",
    "l1 = []\n",
    "l2 = []\n",
    "\n",
    "kf = KFold(n_splits=5)\n",
    "\n",
    "for train_index,val_index in kf.split(X):\n",
    "    X_train, X_val = X.iloc[train_index.tolist(),:], X.iloc[val_index.tolist(),:]\n",
    "    y_train, y_val = y[train_index.tolist()], y[val_index.tolist()]\n",
    "    if len(np.unique(y_val)) == 1:\n",
    "        continue\n",
    "\n",
    "    # Implementing Backward Selection (Recursive Feature Elimination)\n",
    "\n",
    "    svc = SVC(kernel=\"linear\", C=1)\n",
    "    rfe = RFE(estimator=svc, n_features_to_select=6, step=1,verbose=0)\n",
    "\n",
    "    # Subsetting features for each fold\n",
    "\n",
    "    feature_subset = rfe.fit(X_train, y_train).ranking_ == 1\n",
    "    X_train = X_train.loc[:,feature_subset]\n",
    "    X_val = X_val.loc[:,feature_subset]\n",
    "    \n",
    "    # Fitting Logistic Regression and reporting AUC for each fold\n",
    "    model = LogisticRegression()\n",
    "    model = model.fit(X_train, y_train)\n",
    "    actual = [1 if i == 'bending' else 0 for i in y_val.tolist()]\n",
    "    predicted = [1 if i == 'bending' else 0 for i in model.predict(X_val).tolist()]\n",
    "    fpr, tpr, _ = roc_curve(actual,predicted)\n",
    "    auc1.append(auc(fpr, tpr))\n",
    "    variables.append(X_train.columns.tolist())\n",
    "    l1.append(train_index.tolist())\n",
    "    l2.append(val_index.tolist())\n",
    "d = tuple(zip(auc1,variables,l1,l2))"
   ]
  },
  {
   "cell_type": "markdown",
   "metadata": {},
   "source": [
    "Answer iii. -> The best value of L is 1 according to the analysis and has a mean AUC of 0.937 across all folds. The correct way of performing cross validation in this scenario is to find the best L. After finding the best L, run 5-fold cross validation again to find the best feature subset by running the logistic regression model with a different subset of features on each fold."
   ]
  },
  {
   "cell_type": "markdown",
   "metadata": {},
   "source": [
    "Report the confusion matrix and show the ROC and AUC for your classifier. Report the parameters of your logistic regression βi’s as well as the p-values associated with them."
   ]
  },
  {
   "cell_type": "markdown",
   "metadata": {},
   "source": [
    "### Running the previous Logistic Regression Model with Best value of L = 1 and the features that gave the best AUC (1.0) in cross validation with same Random State (Seed is set = 123)"
   ]
  },
  {
   "cell_type": "code",
   "execution_count": 23,
   "metadata": {
    "collapsed": true
   },
   "outputs": [],
   "source": [
    "L = 1\n",
    "feature_subset = d[1][1]\n",
    "train_index = d[1][2]\n",
    "val_index = d[1][3]\n",
    "d_train = {}\n",
    "for v in var1:\n",
    "    for p in params:\n",
    "        d_train[v+\"_\"+p] = []\n",
    "d_train['activity'] = []\n",
    "\n",
    "for activity in ['bending1','bending2','cycling','lying','sitting','standing','walking']:\n",
    "    path = '/Users/nikmag/Desktop/USC/INF_552_ML/HW2/AReM_1/{0}/train'.format(activity)\n",
    "    for filename in os.listdir(path):\n",
    "        df = pd.read_csv(path+'/'+filename,skiprows=4)\n",
    "        df_l = np.array_split(df,L)\n",
    "        for li in df_l:\n",
    "            for v in var1:\n",
    "                d_train[v+\"_\"+\"max\"].append(np.max(li[v]))\n",
    "                d_train[v+\"_\"+\"median\"].append(np.median(li[v]))\n",
    "                d_train[v+\"_\"+\"p10\"].append(np.percentile(li[v],10))\n",
    "            d_train['activity'].append(activity)\n",
    "df_train = pd.DataFrame(d_train)\n",
    "df_train['activity'] = np.where(((df_train['activity'] == 'bending1')|(df_train['activity'] == 'bending2')),'bending','not-bending')\n",
    "df_train = df_train.sample(frac=1,random_state=123).reset_index(drop=True)\n",
    "X = df_train.loc[:,df_train.columns!='activity']\n",
    "X = X[feature_subset]\n",
    "y = df_train['activity']"
   ]
  },
  {
   "cell_type": "code",
   "execution_count": 24,
   "metadata": {
    "collapsed": true
   },
   "outputs": [],
   "source": [
    "X_train, X_val = X.iloc[train_index,:], X.iloc[val_index,:]\n",
    "y_train, y_val = y[train_index], y[val_index]"
   ]
  },
  {
   "cell_type": "code",
   "execution_count": 25,
   "metadata": {
    "collapsed": true
   },
   "outputs": [],
   "source": [
    "model = LogisticRegression()\n",
    "model = model.fit(X_train, y_train)\n",
    "actual = [1 if i == 'bending' else 0 for i in y_val.tolist()]\n",
    "predicted = [1 if i == 'bending' else 0 for i in model.predict(X_val).tolist()]"
   ]
  },
  {
   "cell_type": "markdown",
   "metadata": {},
   "source": [
    "### Printing the confusion matrix"
   ]
  },
  {
   "cell_type": "code",
   "execution_count": 26,
   "metadata": {},
   "outputs": [
    {
     "name": "stdout",
     "output_type": "stream",
     "text": [
      "[[13  0]\n",
      " [ 0  1]]\n"
     ]
    }
   ],
   "source": [
    "cm = metrics.confusion_matrix(actual,predicted)\n",
    "print(cm)"
   ]
  },
  {
   "cell_type": "markdown",
   "metadata": {},
   "source": [
    "Note -> \n",
    "Horizontally - actual values\n",
    "Vertically - predicted values"
   ]
  },
  {
   "cell_type": "markdown",
   "metadata": {},
   "source": [
    "### ROC curve and AUC"
   ]
  },
  {
   "cell_type": "code",
   "execution_count": 27,
   "metadata": {
    "collapsed": true
   },
   "outputs": [],
   "source": [
    "fpr, tpr, _ = roc_curve(actual,predicted)\n",
    "roc_auc = auc(fpr, tpr)"
   ]
  },
  {
   "cell_type": "code",
   "execution_count": 28,
   "metadata": {},
   "outputs": [
    {
     "data": {
      "image/png": "[encoded data removed]",
      "text/plain": [
       "<matplotlib.figure.Figure at 0x106d23908>"
      ]
     },
     "metadata": {},
     "output_type": "display_data"
    }
   ],
   "source": [
    "plt.figure()\n",
    "lw = 2\n",
    "plt.plot(fpr, tpr, color='darkorange',lw=lw, label='ROC curve (area = %0.2f)' % roc_auc)\n",
    "plt.plot([0, 1], [0, 1], color='navy', lw=lw, linestyle='--')\n",
    "plt.xlim([0.0, 1.0])\n",
    "plt.ylim([0.0, 1.05])\n",
    "plt.xlabel('False Positive Rate')\n",
    "plt.ylabel('True Positive Rate')\n",
    "plt.title('ROC Curve')\n",
    "plt.legend(loc=\"lower right\")\n",
    "plt.show()"
   ]
  },
  {
   "cell_type": "markdown",
   "metadata": {},
   "source": [
    "### Coefficient values"
   ]
  },
  {
   "cell_type": "code",
   "execution_count": 29,
   "metadata": {},
   "outputs": [
    {
     "data": {
      "text/html": [
       "<div>\n",
       "<style>\n",
       "    .dataframe thead tr:only-child th {\n",
       "        text-align: right;\n",
       "    }\n",
       "\n",
       "    .dataframe thead th {\n",
       "        text-align: left;\n",
       "    }\n",
       "\n",
       "    .dataframe tbody tr th {\n",
       "        vertical-align: top;\n",
       "    }\n",
       "</style>\n",
       "<table border=\"1\" class=\"dataframe\">\n",
       "  <thead>\n",
       "    <tr style=\"text-align: right;\">\n",
       "      <th></th>\n",
       "      <th>Variable Name</th>\n",
       "      <th>Coefficient value</th>\n",
       "    </tr>\n",
       "  </thead>\n",
       "  <tbody>\n",
       "    <tr>\n",
       "      <th>0</th>\n",
       "      <td>avg_rss12_max</td>\n",
       "      <td>0.630658</td>\n",
       "    </tr>\n",
       "    <tr>\n",
       "      <th>1</th>\n",
       "      <td>avg_rss13_median</td>\n",
       "      <td>0.462090</td>\n",
       "    </tr>\n",
       "    <tr>\n",
       "      <th>2</th>\n",
       "      <td>avg_rss13_p10</td>\n",
       "      <td>0.089272</td>\n",
       "    </tr>\n",
       "    <tr>\n",
       "      <th>3</th>\n",
       "      <td>avg_rss23_max</td>\n",
       "      <td>-0.887104</td>\n",
       "    </tr>\n",
       "    <tr>\n",
       "      <th>4</th>\n",
       "      <td>avg_rss23_p10</td>\n",
       "      <td>-0.722843</td>\n",
       "    </tr>\n",
       "    <tr>\n",
       "      <th>5</th>\n",
       "      <td>var_rss23_max</td>\n",
       "      <td>-0.030620</td>\n",
       "    </tr>\n",
       "  </tbody>\n",
       "</table>\n",
       "</div>"
      ],
      "text/plain": [
       "      Variable Name  Coefficient value\n",
       "0     avg_rss12_max           0.630658\n",
       "1  avg_rss13_median           0.462090\n",
       "2     avg_rss13_p10           0.089272\n",
       "3     avg_rss23_max          -0.887104\n",
       "4     avg_rss23_p10          -0.722843\n",
       "5     var_rss23_max          -0.030620"
      ]
     },
     "execution_count": 29,
     "metadata": {},
     "output_type": "execute_result"
    }
   ],
   "source": [
    "coef = pd.DataFrame({\"Variable Name\":feature_subset,\"Coefficient value\":model.coef_[0].tolist()})\n",
    "coef[['Variable Name','Coefficient value']]"
   ]
  },
  {
   "cell_type": "markdown",
   "metadata": {},
   "source": [
    "### P Values"
   ]
  },
  {
   "cell_type": "code",
   "execution_count": 321,
   "metadata": {},
   "outputs": [
    {
     "data": {
      "text/html": [
       "<div>\n",
       "<style>\n",
       "    .dataframe thead tr:only-child th {\n",
       "        text-align: right;\n",
       "    }\n",
       "\n",
       "    .dataframe thead th {\n",
       "        text-align: left;\n",
       "    }\n",
       "\n",
       "    .dataframe tbody tr th {\n",
       "        vertical-align: top;\n",
       "    }\n",
       "</style>\n",
       "<table border=\"1\" class=\"dataframe\">\n",
       "  <thead>\n",
       "    <tr style=\"text-align: right;\">\n",
       "      <th></th>\n",
       "      <th>Variable Name</th>\n",
       "      <th>P Value</th>\n",
       "    </tr>\n",
       "  </thead>\n",
       "  <tbody>\n",
       "    <tr>\n",
       "      <th>0</th>\n",
       "      <td>avg_rss12_max</td>\n",
       "      <td>4.957838e-01</td>\n",
       "    </tr>\n",
       "    <tr>\n",
       "      <th>1</th>\n",
       "      <td>avg_rss13_median</td>\n",
       "      <td>2.713352e-02</td>\n",
       "    </tr>\n",
       "    <tr>\n",
       "      <th>2</th>\n",
       "      <td>avg_rss13_p10</td>\n",
       "      <td>1.465119e-01</td>\n",
       "    </tr>\n",
       "    <tr>\n",
       "      <th>3</th>\n",
       "      <td>avg_rss23_max</td>\n",
       "      <td>7.707013e-13</td>\n",
       "    </tr>\n",
       "    <tr>\n",
       "      <th>4</th>\n",
       "      <td>avg_rss23_p10</td>\n",
       "      <td>7.895976e-15</td>\n",
       "    </tr>\n",
       "    <tr>\n",
       "      <th>5</th>\n",
       "      <td>var_rss23_max</td>\n",
       "      <td>6.132177e-02</td>\n",
       "    </tr>\n",
       "  </tbody>\n",
       "</table>\n",
       "</div>"
      ],
      "text/plain": [
       "      Variable Name       P Value\n",
       "0     avg_rss12_max  4.957838e-01\n",
       "1  avg_rss13_median  2.713352e-02\n",
       "2     avg_rss13_p10  1.465119e-01\n",
       "3     avg_rss23_max  7.707013e-13\n",
       "4     avg_rss23_p10  7.895976e-15\n",
       "5     var_rss23_max  6.132177e-02"
      ]
     },
     "execution_count": 321,
     "metadata": {},
     "output_type": "execute_result"
    }
   ],
   "source": [
    "#P Values"
   ]
  },
  {
   "cell_type": "markdown",
   "metadata": {},
   "source": [
    "Test the classifier on the test set. Remember to break the time series in your test set into the same number of time series into which you broke your training set. Remember that the classifier has to be tested using the features extracted from the test set. Compare the accuracy on the test set with the cross-validation accuracy you obtained previously."
   ]
  },
  {
   "cell_type": "markdown",
   "metadata": {},
   "source": [
    "### Creating the test set for the best value of L = 1"
   ]
  },
  {
   "cell_type": "code",
   "execution_count": 141,
   "metadata": {
    "collapsed": true
   },
   "outputs": [],
   "source": [
    "L = 1\n",
    "d_test = {}\n",
    "for v in var1:\n",
    "    for p in params:\n",
    "        d_test[v+\"_\"+p] = []\n",
    "d_test['activity'] = []\n",
    "\n",
    "for activity in ['bending1','bending2','cycling','lying','sitting','standing','walking']:\n",
    "    path = '/Users/nikmag/Desktop/USC/INF_552_ML/HW2/AReM_1/{0}/test'.format(activity)\n",
    "    for filename in os.listdir(path):\n",
    "        df = pd.read_csv(path+'/'+filename,skiprows=4)\n",
    "        df_l = np.array_split(df,L)\n",
    "        for li in df_l:\n",
    "            for v in var1:\n",
    "                d_test[v+\"_\"+\"max\"].append(np.max(li[v]))\n",
    "                d_test[v+\"_\"+\"median\"].append(np.median(li[v]))\n",
    "                d_test[v+\"_\"+\"p10\"].append(np.percentile(li[v],10))\n",
    "            d_test['activity'].append(activity)\n",
    "df_test = pd.DataFrame(d_test)\n",
    "df_test['activity'] = np.where(((df_test['activity'] == 'bending1')|(df_test['activity'] == 'bending2')),'bending','not-bending')"
   ]
  },
  {
   "cell_type": "markdown",
   "metadata": {},
   "source": [
    "### Subsetting features of both train and test set"
   ]
  },
  {
   "cell_type": "code",
   "execution_count": 325,
   "metadata": {
    "collapsed": true
   },
   "outputs": [],
   "source": [
    "feature_subset.append('activity')"
   ]
  },
  {
   "cell_type": "code",
   "execution_count": 326,
   "metadata": {
    "collapsed": true
   },
   "outputs": [],
   "source": [
    "df_train = df_train[feature_subset]\n",
    "df_test = df_test[feature_subset]"
   ]
  },
  {
   "cell_type": "markdown",
   "metadata": {},
   "source": [
    "### Fitting Logistic Regression on the train set and checking AUC on the test set"
   ]
  },
  {
   "cell_type": "code",
   "execution_count": 64,
   "metadata": {},
   "outputs": [
    {
     "name": "stdout",
     "output_type": "stream",
     "text": [
      "Confusion Matrix for the test set: \n",
      "[[15  0]\n",
      " [ 2  2]]\n",
      "AUC for the test set: \n",
      "0.75\n"
     ]
    }
   ],
   "source": [
    "X_train = df_train.loc[:,df_train.columns!='activity']\n",
    "y_train = df_train['activity']\n",
    "X_test = df_test.loc[:,df_test.columns!='activity']\n",
    "y_test = df_test['activity']\n",
    "\n",
    "model = LogisticRegression()\n",
    "model = model.fit(X_train, y_train)\n",
    "actual = [1 if i == 'bending' else 0 for i in y_test.tolist()]\n",
    "predicted = [1 if i == 'bending' else 0 for i in model.predict(X_test).tolist()]\n",
    "\n",
    "cm = metrics.confusion_matrix(actual,predicted)\n",
    "print(\"Confusion Matrix for the test set: \")\n",
    "print(cm)\n",
    "\n",
    "fpr, tpr, _ = roc_curve(actual,predicted)\n",
    "roc_auc = auc(fpr, tpr)\n",
    "print(\"AUC for the test set: \")\n",
    "print(roc_auc)"
   ]
  },
  {
   "cell_type": "markdown",
   "metadata": {},
   "source": [
    "The AUC for the model on the test set is 0.75, whereas on the cross validation set it was 1.0, for the subset of features and L = 1"
   ]
  },
  {
   "cell_type": "markdown",
   "metadata": {},
   "source": [
    "### vii. From the confusion matrices you obtained, do you see imbalanced classes? If yes, build a logistic regression model based on case-control sampling and adjust its parameters. Report the confusion matrix, ROC, and AUC of the model."
   ]
  },
  {
   "cell_type": "markdown",
   "metadata": {},
   "source": [
    "### Bulding a Logistic Regression model with balanced classes by adjusting class_weight = balanced"
   ]
  },
  {
   "cell_type": "code",
   "execution_count": 328,
   "metadata": {},
   "outputs": [
    {
     "name": "stdout",
     "output_type": "stream",
     "text": [
      "Confusion Matrix for the test set: \n",
      "[[15  0]\n",
      " [ 1  3]]\n",
      "AUC for the test set: \n",
      "0.875\n"
     ]
    }
   ],
   "source": [
    "X_train = df_train.loc[:,df_train.columns!='activity']\n",
    "y_train = df_train['activity']\n",
    "X_test = df_test.loc[:,df_test.columns!='activity']\n",
    "y_test = df_test['activity']\n",
    "\n",
    "model = LogisticRegression(class_weight='balanced')\n",
    "model = model.fit(X_train, y_train)\n",
    "actual = [1 if i == 'bending' else 0 for i in y_test.tolist()]\n",
    "predicted = [1 if i == 'bending' else 0 for i in model.predict(X_test).tolist()]\n",
    "\n",
    "cm = metrics.confusion_matrix(actual,predicted)\n",
    "print(\"Confusion Matrix for the test set: \")\n",
    "print(cm)\n",
    "\n",
    "fpr, tpr, _ = roc_curve(actual,predicted)\n",
    "roc_auc = auc(fpr, tpr)\n",
    "print(\"AUC for the test set: \")\n",
    "print(roc_auc)"
   ]
  },
  {
   "cell_type": "markdown",
   "metadata": {},
   "source": [
    "### ROC Curves"
   ]
  },
  {
   "cell_type": "code",
   "execution_count": 329,
   "metadata": {},
   "outputs": [
    {
     "data": {
      "image/png": "[encoded data removed]",
      "text/plain": [
       "<matplotlib.figure.Figure at 0x1a189b0358>"
      ]
     },
     "metadata": {},
     "output_type": "display_data"
    }
   ],
   "source": [
    "fpr, tpr, _ = roc_curve(actual,predicted)\n",
    "roc_auc = auc(fpr, tpr)\n",
    "plt.figure()\n",
    "lw = 2\n",
    "plt.plot(fpr, tpr, color='darkorange',lw=lw, label='ROC curve (area = %0.2f)' % roc_auc)\n",
    "plt.plot([0, 1], [0, 1], color='navy', lw=lw, linestyle='--')\n",
    "plt.xlim([0.0, 1.0])\n",
    "plt.ylim([0.0, 1.05])\n",
    "plt.xlabel('False Positive Rate')\n",
    "plt.ylabel('True Positive Rate')\n",
    "plt.title('ROC Curve')\n",
    "plt.legend(loc=\"lower right\")\n",
    "plt.show()"
   ]
  },
  {
   "cell_type": "markdown",
   "metadata": {},
   "source": [
    "Answer vii. -> Yes, a lot of class imbalance has been observed in the confusion matrices. The event rate of the minority samples was as low as 13%. After balancing the class weights, the AUC increased from 0.75 to 0.875."
   ]
  },
  {
   "cell_type": "markdown",
   "metadata": {},
   "source": [
    "## Binary Classification Using L1-penalized logistic regression"
   ]
  },
  {
   "cell_type": "markdown",
   "metadata": {},
   "source": [
    "### Stratified Cross validation both on L and C (set by default to be ten values in a logarithmic scale between 1e-4 and 1e4 by sklearn) and Normalizing each feature to [0,1] scale"
   ]
  },
  {
   "cell_type": "code",
   "execution_count": 134,
   "metadata": {
    "collapsed": true
   },
   "outputs": [
    {
     "name": "stderr",
     "output_type": "stream",
     "text": [
      "/anaconda3/lib/python3.6/site-packages/ipykernel_launcher.py:32: SettingWithCopyWarning: \n",
      "A value is trying to be set on a copy of a slice from a DataFrame.\n",
      "Try using .loc[row_indexer,col_indexer] = value instead\n",
      "\n",
      "See the caveats in the documentation: http://pandas.pydata.org/pandas-docs/stable/indexing.html#indexing-view-versus-copy\n"
     ]
    }
   ],
   "source": [
    "d={}\n",
    "params = ['max','median','p10']\n",
    "var1 = ['avg_rss12','var_rss12','avg_rss13','var_rss13','avg_rss23','var_rss23']\n",
    "for l in range(1,21):\n",
    "    d_train = {}\n",
    "    for v in var1:\n",
    "        for p in params:\n",
    "            d_train[v+\"_\"+p] = []\n",
    "    d_train['activity'] = []\n",
    "    \n",
    "    for activity in ['bending1','bending2','cycling','lying','sitting','standing','walking']:\n",
    "        path = '/Users/nikmag/Desktop/USC/INF_552_ML/HW2/AReM_1/{0}/train'.format(activity)\n",
    "        for filename in os.listdir(path):\n",
    "            df = pd.read_csv(path+'/'+filename,skiprows=4)\n",
    "            df_l = np.array_split(df,l)\n",
    "            for li in df_l:\n",
    "                for v in var1:\n",
    "                    d_train[v+\"_\"+\"max\"].append(np.max(li[v]))\n",
    "                    d_train[v+\"_\"+\"median\"].append(np.median(li[v]))\n",
    "                    d_train[v+\"_\"+\"p10\"].append(np.percentile(li[v],10))\n",
    "                d_train['activity'].append(activity)\n",
    "    df_train = pd.DataFrame(d_train)\n",
    "    df_train['activity'] = np.where(((df_train['activity'] == 'bending1')|(df_train['activity'] == 'bending2')),'bending','not-bending')\n",
    "    \n",
    "    df_train = df_train.sample(frac=1,random_state=123).reset_index(drop=True)\n",
    "    X = df_train.loc[:,df_train.columns!='activity']\n",
    "    y = df_train['activity']\n",
    "    \n",
    "    #Normalizing each feature to [0,1] scale\n",
    "    \n",
    "    for col in X.columns.tolist():\n",
    "        X[col] = X[col].apply(lambda x: (x-np.min(X[col]))/(np.max(X[col]-np.min(X[col]))))\n",
    "    \n",
    "    auc1 = []\n",
    "    best_c = []\n",
    "    \n",
    "    kf = StratifiedKFold(n_splits=5)\n",
    "    \n",
    "    for train_index,val_index in kf.split(X,y):\n",
    "        X_train, X_val = X.iloc[train_index.tolist(),:], X.iloc[val_index.tolist(),:]\n",
    "        y_train, y_val = y[train_index.tolist()], y[val_index.tolist()]\n",
    "        if len(np.unique(y_val)) == 1:\n",
    "            continue\n",
    "            \n",
    "        model = LogisticRegressionCV(Cs=10,penalty='l1',solver='liblinear')\n",
    "        model = model.fit(X_train, y_train)\n",
    "        actual = [1 if i == 'bending' else 0 for i in y_val.tolist()]\n",
    "        predicted = [1 if i == 'bending' else 0 for i in model.predict(X_val).tolist()]\n",
    "        fpr, tpr, _ = roc_curve(actual,predicted)\n",
    "        auc1.append(auc(fpr, tpr))\n",
    "        best_c.append(model.C_)\n",
    "    d[l] = tuple(zip(auc1,best_c))"
   ]
  },
  {
   "cell_type": "code",
   "execution_count": 136,
   "metadata": {
    "collapsed": true
   },
   "outputs": [],
   "source": [
    "auc1 = []\n",
    "C = []\n",
    "for i in d.keys():\n",
    "    for j in range(0,5):\n",
    "        auc1.append(d[i][j][0])\n",
    "for i in d.keys():\n",
    "    for j in range(0,5):\n",
    "        C.append(d[i][j][1][0])"
   ]
  },
  {
   "cell_type": "markdown",
   "metadata": {},
   "source": [
    "### ii. Compare the L1-penalized with variable selection using p-values. Which one performs better? Which one is easier to implement?"
   ]
  },
  {
   "cell_type": "markdown",
   "metadata": {},
   "source": [
    "### Implementing best result on test set (L=1 and C = 166.810054)"
   ]
  },
  {
   "cell_type": "code",
   "execution_count": 144,
   "metadata": {},
   "outputs": [
    {
     "name": "stdout",
     "output_type": "stream",
     "text": [
      "Confusion Matrix for the test set: \n",
      "[[15  0]\n",
      " [ 0  4]]\n",
      "AUC for the test set: \n",
      "1.0\n"
     ]
    }
   ],
   "source": [
    "X_train = df_train.loc[:,df_train.columns!='activity']\n",
    "y_train = df_train['activity']\n",
    "X_test = df_test.loc[:,df_test.columns!='activity']\n",
    "y_test = df_test['activity']\n",
    "\n",
    "model = LogisticRegression(penalty='l1',C=166.810054,solver='liblinear')\n",
    "model = model.fit(X_train, y_train)\n",
    "actual = [1 if i == 'bending' else 0 for i in y_test.tolist()]\n",
    "predicted = [1 if i == 'bending' else 0 for i in model.predict(X_test).tolist()]\n",
    "\n",
    "cm = metrics.confusion_matrix(actual,predicted)\n",
    "print(\"Confusion Matrix for the test set: \")\n",
    "print(cm)\n",
    "\n",
    "fpr, tpr, _ = roc_curve(actual,predicted)\n",
    "roc_auc = auc(fpr, tpr)\n",
    "print(\"AUC for the test set: \")\n",
    "print(roc_auc)"
   ]
  },
  {
   "cell_type": "code",
   "execution_count": 148,
   "metadata": {},
   "outputs": [
    {
     "data": {
      "text/html": [
       "<div>\n",
       "<style>\n",
       "    .dataframe thead tr:only-child th {\n",
       "        text-align: right;\n",
       "    }\n",
       "\n",
       "    .dataframe thead th {\n",
       "        text-align: left;\n",
       "    }\n",
       "\n",
       "    .dataframe tbody tr th {\n",
       "        vertical-align: top;\n",
       "    }\n",
       "</style>\n",
       "<table border=\"1\" class=\"dataframe\">\n",
       "  <thead>\n",
       "    <tr style=\"text-align: right;\">\n",
       "      <th></th>\n",
       "      <th>Variable Selection Method</th>\n",
       "      <th>Optimum L value</th>\n",
       "      <th>Test AUC</th>\n",
       "      <th>Notes</th>\n",
       "    </tr>\n",
       "  </thead>\n",
       "  <tbody>\n",
       "    <tr>\n",
       "      <th>0</th>\n",
       "      <td>Backward Selection</td>\n",
       "      <td>1</td>\n",
       "      <td>0.75</td>\n",
       "      <td>None</td>\n",
       "    </tr>\n",
       "    <tr>\n",
       "      <th>1</th>\n",
       "      <td>L1-penalization</td>\n",
       "      <td>1</td>\n",
       "      <td>1.00</td>\n",
       "      <td>C = 166.81</td>\n",
       "    </tr>\n",
       "  </tbody>\n",
       "</table>\n",
       "</div>"
      ],
      "text/plain": [
       "  Variable Selection Method  Optimum L value  Test AUC       Notes\n",
       "0        Backward Selection                1      0.75        None\n",
       "1           L1-penalization                1      1.00  C = 166.81"
      ]
     },
     "execution_count": 148,
     "metadata": {},
     "output_type": "execute_result"
    }
   ],
   "source": [
    "a = pd.DataFrame({\"Variable Selection Method\":['Backward Selection','L1-penalization'],\"Optimum L value\":[1,1],\"Test AUC\":[0.75,1.0],\"Notes\":[\"None\",\"C = 166.81\"]})\n",
    "a[['Variable Selection Method','Optimum L value','Test AUC','Notes']]"
   ]
  },
  {
   "cell_type": "markdown",
   "metadata": {},
   "source": [
    "Answer ii. -> The L1 penalization method significantly outperforms the backward-selection method implemented before for the same value of L\n",
    "\n",
    "I have implemented L1-penalized method and Backward selection method. It is much easier to implement L1 penalized method as compared to p-value method because you just have to add one L1 regularization term in the loss function and it is programmatically easier to implement as well."
   ]
  },
  {
   "cell_type": "markdown",
   "metadata": {},
   "source": [
    "## Multi-class Classification (The Realistic Case)"
   ]
  },
  {
   "cell_type": "markdown",
   "metadata": {},
   "source": [
    "### i. Use the best L you found6 from 1(e)i to build an L1-penalized multinomial regression model to classify all activities in your training set. Report your test error. Research how confusion matrices and ROC curves are defined for multiclass classification and show them for this problem if possible."
   ]
  },
  {
   "cell_type": "code",
   "execution_count": 245,
   "metadata": {
    "collapsed": true
   },
   "outputs": [
    {
     "name": "stderr",
     "output_type": "stream",
     "text": [
      "/anaconda3/lib/python3.6/site-packages/ipykernel_launcher.py:30: SettingWithCopyWarning: \n",
      "A value is trying to be set on a copy of a slice from a DataFrame.\n",
      "Try using .loc[row_indexer,col_indexer] = value instead\n",
      "\n",
      "See the caveats in the documentation: http://pandas.pydata.org/pandas-docs/stable/indexing.html#indexing-view-versus-copy\n",
      "/anaconda3/lib/python3.6/site-packages/sklearn/model_selection/_split.py:605: Warning: The least populated class in y has only 4 members, which is too few. The minimum number of members in any class cannot be less than n_splits=5.\n",
      "  % (min_groups, self.n_splits)), Warning)\n"
     ]
    }
   ],
   "source": [
    "d={}\n",
    "params = ['max','median','p10']\n",
    "var1 = ['avg_rss12','var_rss12','avg_rss13','var_rss13','avg_rss23','var_rss23']\n",
    "for l in range(1,21):\n",
    "    d_train = {}\n",
    "    for v in var1:\n",
    "        for p in params:\n",
    "            d_train[v+\"_\"+p] = []\n",
    "    d_train['activity'] = []\n",
    "    \n",
    "    for activity in ['bending1','bending2','cycling','lying','sitting','standing','walking']:\n",
    "        path = '/Users/nikmag/Desktop/USC/INF_552_ML/HW2/AReM_1/{0}/train'.format(activity)\n",
    "        for filename in os.listdir(path):\n",
    "            df = pd.read_csv(path+'/'+filename,skiprows=4)\n",
    "            df_l = np.array_split(df,l)\n",
    "            for li in df_l:\n",
    "                for v in var1:\n",
    "                    d_train[v+\"_\"+\"max\"].append(np.max(li[v]))\n",
    "                    d_train[v+\"_\"+\"median\"].append(np.median(li[v]))\n",
    "                    d_train[v+\"_\"+\"p10\"].append(np.percentile(li[v],10))\n",
    "                d_train['activity'].append(activity)\n",
    "    df_train = pd.DataFrame(d_train)\n",
    "    df_train = df_train.sample(frac=1,random_state=123).reset_index(drop=True)\n",
    "    X = df_train.loc[:,df_train.columns!='activity']\n",
    "    y = df_train['activity']\n",
    "    \n",
    "    #Normalizing each feature to [0,1] scale\n",
    "    \n",
    "    for col in X.columns.tolist():\n",
    "        X[col] = X[col].apply(lambda x: (x-np.min(X[col]))/(np.max(X[col]-np.min(X[col]))))\n",
    "    \n",
    "    auc1 = []\n",
    "    best_c = []\n",
    "    \n",
    "    kf = StratifiedKFold(n_splits=5)\n",
    "    \n",
    "    for train_index,val_index in kf.split(X,y):\n",
    "        X_train, X_val = X.iloc[train_index.tolist(),:], X.iloc[val_index.tolist(),:]\n",
    "        y_train, y_val = y[train_index.tolist()], y[val_index.tolist()]\n",
    "        if len(np.unique(y_val)) == 1:\n",
    "            continue\n",
    "            \n",
    "        model = LogisticRegressionCV(Cs=10,penalty='l1',solver='liblinear')\n",
    "        model = model.fit(X_train, y_train)\n",
    "        act = pd.DataFrame({k:[] for k in ['bending1','bending2','cycling','lying','sitting','standing','walking']})\n",
    "        j = 0\n",
    "        for i in list(model.predict(X_test)):\n",
    "            act.loc[j,i] = 1\n",
    "            act.loc[j,act.columns!=i] = 0\n",
    "            j = j + 1\n",
    "        for col in act.columns.tolist():\n",
    "            act[col] = act[col].apply(int)\n",
    "        y_pred = np.array(act)\n",
    "        y_test1 = np.array(pd.get_dummies(y_test))\n",
    "        fpr = {}\n",
    "        tpr = {}\n",
    "        roc_auc = {}\n",
    "        for i in range(0,7):\n",
    "            fpr[i], tpr[i], _ = roc_curve(y_test1[:, i], y_pred[:, i])\n",
    "            roc_auc[i] = auc(fpr[i], tpr[i])\n",
    "        auc1.append(np.mean(list(roc_auc.values())))\n",
    "        best_c.append(model.C_)\n",
    "    d[l] = tuple(zip(auc1,best_c))"
   ]
  },
  {
   "cell_type": "markdown",
   "metadata": {},
   "source": [
    "Got optimal AUC for L = 18"
   ]
  },
  {
   "cell_type": "markdown",
   "metadata": {},
   "source": [
    "### Creating train and test sets for L = 18 to test multiclass logistic regression model"
   ]
  },
  {
   "cell_type": "code",
   "execution_count": 250,
   "metadata": {
    "collapsed": true
   },
   "outputs": [],
   "source": [
    "L = 18\n",
    "d_test = {}\n",
    "for v in var1:\n",
    "    for p in params:\n",
    "        d_test[v+\"_\"+p] = []\n",
    "d_test['activity'] = []\n",
    "\n",
    "for activity in ['bending1','bending2','cycling','lying','sitting','standing','walking']:\n",
    "    path = '/Users/nikmag/Desktop/USC/INF_552_ML/HW2/AReM_1/{0}/test'.format(activity)\n",
    "    for filename in os.listdir(path):\n",
    "        df = pd.read_csv(path+'/'+filename,skiprows=4)\n",
    "        df_l = np.array_split(df,L)\n",
    "        for li in df_l:\n",
    "            for v in var1:\n",
    "                d_test[v+\"_\"+\"max\"].append(np.max(li[v]))\n",
    "                d_test[v+\"_\"+\"median\"].append(np.median(li[v]))\n",
    "                d_test[v+\"_\"+\"p10\"].append(np.percentile(li[v],10))\n",
    "            d_test['activity'].append(activity)\n",
    "df_test = pd.DataFrame(d_test)\n",
    "\n",
    "L = 18\n",
    "d_train = {}\n",
    "for v in var1:\n",
    "    for p in params:\n",
    "        d_train[v+\"_\"+p] = []\n",
    "d_train['activity'] = []\n",
    "\n",
    "for activity in ['bending1','bending2','cycling','lying','sitting','standing','walking']:\n",
    "    path = '/Users/nikmag/Desktop/USC/INF_552_ML/HW2/AReM_1/{0}/train'.format(activity)\n",
    "    for filename in os.listdir(path):\n",
    "        df = pd.read_csv(path+'/'+filename,skiprows=4)\n",
    "        df_l = np.array_split(df,L)\n",
    "        for li in df_l:\n",
    "            for v in var1:\n",
    "                d_train[v+\"_\"+\"max\"].append(np.max(li[v]))\n",
    "                d_train[v+\"_\"+\"median\"].append(np.median(li[v]))\n",
    "                d_train[v+\"_\"+\"p10\"].append(np.percentile(li[v],10))\n",
    "            d_train['activity'].append(activity)\n",
    "df_train = pd.DataFrame(d_train)"
   ]
  },
  {
   "cell_type": "markdown",
   "metadata": {},
   "source": [
    "### Implementing best result on test set (L=18)"
   ]
  },
  {
   "cell_type": "code",
   "execution_count": 268,
   "metadata": {
    "collapsed": true
   },
   "outputs": [],
   "source": [
    "X_train = df_train.loc[:,df_train.columns!='activity']\n",
    "y_train = df_train['activity']\n",
    "X_test = df_test.loc[:,df_test.columns!='activity']\n",
    "y_test = df_test['activity']\n",
    "\n",
    "model = LogisticRegression(penalty='l1',solver='liblinear',)\n",
    "model = model.fit(X_train, y_train)\n",
    "\n",
    "d = {'bending1':0,'bending2':1,'cycling':2,'lying':3,'sitting':4,'standing':5,'walking':6}\n",
    "\n",
    "y_true = [d[i] for i in list(y_test)]\n",
    "y_pred = [d[i] for i in list(model.predict(X_test))]\n"
   ]
  },
  {
   "cell_type": "markdown",
   "metadata": {},
   "source": [
    "### Printing the confusion matrix"
   ]
  },
  {
   "cell_type": "code",
   "execution_count": 273,
   "metadata": {},
   "outputs": [
    {
     "data": {
      "text/plain": [
       "array([[36,  0,  0,  0,  0,  0,  0],\n",
       "       [ 3, 26,  3,  0,  4,  0,  0],\n",
       "       [ 0,  0, 54,  0,  0,  0,  0],\n",
       "       [ 0,  2,  1, 51,  0,  0,  0],\n",
       "       [ 2,  1,  0,  3, 36, 12,  0],\n",
       "       [ 0,  0,  0,  7, 13, 34,  0],\n",
       "       [ 0,  0,  3,  0,  0,  0, 51]])"
      ]
     },
     "execution_count": 273,
     "metadata": {},
     "output_type": "execute_result"
    }
   ],
   "source": [
    "confusion_matrix(y_true, y_pred)"
   ]
  },
  {
   "cell_type": "markdown",
   "metadata": {},
   "source": [
    "### Plotting ROC curve for each class"
   ]
  },
  {
   "cell_type": "code",
   "execution_count": 277,
   "metadata": {
    "collapsed": true
   },
   "outputs": [],
   "source": [
    "act = pd.DataFrame({k:[] for k in ['bending1','bending2','cycling','lying','sitting','standing','walking']})\n",
    "j = 0\n",
    "for i in list(model.predict(X_test)):\n",
    "    act.loc[j,i] = 1\n",
    "    act.loc[j,act.columns!=i] = 0\n",
    "    j = j + 1\n",
    "for col in act.columns.tolist():\n",
    "    act[col] = act[col].apply(int)\n",
    "y_pred = np.array(act)\n",
    "y_test1 = np.array(pd.get_dummies(y_test))\n",
    "fpr = {}\n",
    "tpr = {}\n",
    "roc_auc = {}\n",
    "for i in range(0,7):\n",
    "    fpr[i], tpr[i], _ = roc_curve(y_test1[:, i], y_pred[:, i])\n",
    "    roc_auc[i] = auc(fpr[i], tpr[i])"
   ]
  },
  {
   "cell_type": "markdown",
   "metadata": {},
   "source": [
    "Answer i. -> Confusion matrices can be plotted easily for multiclass classification problems and is shown above. ROC curves and their AUC for each class have been plotted above. ROC curves can be plotted by binarizing the output."
   ]
  },
  {
   "cell_type": "markdown",
   "metadata": {},
   "source": [
    "Repeat using a Na ̈ıve Bayes’ classifier. Use both Gaussian and Multi- nomial priors and compare the results."
   ]
  },
  {
   "cell_type": "markdown",
   "metadata": {},
   "source": [
    "### Implementing Gaussian Naive Bayes"
   ]
  },
  {
   "cell_type": "code",
   "execution_count": 291,
   "metadata": {
    "collapsed": true
   },
   "outputs": [],
   "source": [
    "gnb = GaussianNB() \n",
    "y_pred = [d[i] for i in list(gnb.fit(X_train, y_train).predict(X_test))]"
   ]
  },
  {
   "cell_type": "markdown",
   "metadata": {},
   "source": [
    "### Confusion matrix"
   ]
  },
  {
   "cell_type": "code",
   "execution_count": 292,
   "metadata": {},
   "outputs": [
    {
     "data": {
      "text/plain": [
       "array([[36,  0,  0,  0,  0,  0,  0],\n",
       "       [ 0, 36,  0,  0,  0,  0,  0],\n",
       "       [ 0,  0, 53,  0,  0,  0,  1],\n",
       "       [ 0,  6,  0, 48,  0,  0,  0],\n",
       "       [ 4,  0,  0,  0, 28, 22,  0],\n",
       "       [ 2,  0,  0,  2,  9, 41,  0],\n",
       "       [ 0,  0,  2,  0,  0,  0, 52]])"
      ]
     },
     "execution_count": 292,
     "metadata": {},
     "output_type": "execute_result"
    }
   ],
   "source": [
    "confusion_matrix(y_true, y_pred)"
   ]
  },
  {
   "cell_type": "markdown",
   "metadata": {},
   "source": [
    "### Plotting ROC curves"
   ]
  },
  {
   "cell_type": "code",
   "execution_count": 295,
   "metadata": {
    "collapsed": true
   },
   "outputs": [],
   "source": [
    "act = pd.DataFrame({k:[] for k in ['bending1','bending2','cycling','lying','sitting','standing','walking']})\n",
    "j = 0\n",
    "for i in list(gnb.fit(X_train, y_train).predict(X_test)):\n",
    "    act.loc[j,i] = 1\n",
    "    act.loc[j,act.columns!=i] = 0\n",
    "    j = j + 1\n",
    "for col in act.columns.tolist():\n",
    "    act[col] = act[col].apply(int)\n",
    "y_pred = np.array(act)\n",
    "y_test1 = np.array(pd.get_dummies(y_test))\n",
    "fpr = {}\n",
    "tpr = {}\n",
    "roc_auc = {}\n",
    "for i in range(0,7):\n",
    "    fpr[i], tpr[i], _ = roc_curve(y_test1[:, i], y_pred[:, i])\n",
    "    roc_auc[i] = auc(fpr[i], tpr[i])"
   ]
  },
  {
   "cell_type": "markdown",
   "metadata": {},
   "source": [
    "### Implementing Multinomial Naive Bayes"
   ]
  },
  {
   "cell_type": "code",
   "execution_count": 298,
   "metadata": {
    "collapsed": true
   },
   "outputs": [],
   "source": [
    "mnb = MultinomialNB() \n",
    "y_pred = [d[i] for i in list(mnb.fit(X_train, y_train).predict(X_test))]"
   ]
  },
  {
   "cell_type": "markdown",
   "metadata": {},
   "source": [
    "### Confusion Matrix"
   ]
  },
  {
   "cell_type": "code",
   "execution_count": 299,
   "metadata": {},
   "outputs": [
    {
     "data": {
      "text/plain": [
       "array([[36,  0,  0,  0,  0,  0,  0],\n",
       "       [20, 11,  4,  0,  1,  0,  0],\n",
       "       [ 0,  0, 53,  0,  0,  0,  1],\n",
       "       [ 0,  2,  1, 45,  4,  2,  0],\n",
       "       [ 1,  1,  1,  4, 34, 13,  0],\n",
       "       [ 0,  0,  0, 10, 22, 22,  0],\n",
       "       [ 0,  0,  3,  0,  0,  0, 51]])"
      ]
     },
     "execution_count": 299,
     "metadata": {},
     "output_type": "execute_result"
    }
   ],
   "source": [
    "confusion_matrix(y_true, y_pred)"
   ]
  },
  {
   "cell_type": "markdown",
   "metadata": {},
   "source": [
    "### Plotting ROC curve"
   ]
  },
  {
   "cell_type": "code",
   "execution_count": 300,
   "metadata": {
    "collapsed": true
   },
   "outputs": [],
   "source": [
    "act = pd.DataFrame({k:[] for k in ['bending1','bending2','cycling','lying','sitting','standing','walking']})\n",
    "j = 0\n",
    "for i in list(mnb.fit(X_train, y_train).predict(X_test)):\n",
    "    act.loc[j,i] = 1\n",
    "    act.loc[j,act.columns!=i] = 0\n",
    "    j = j + 1\n",
    "for col in act.columns.tolist():\n",
    "    act[col] = act[col].apply(int)\n",
    "y_pred = np.array(act)\n",
    "y_test1 = np.array(pd.get_dummies(y_test))\n",
    "fpr = {}\n",
    "tpr = {}\n",
    "roc_auc = {}\n",
    "for i in range(0,7):\n",
    "    fpr[i], tpr[i], _ = roc_curve(y_test1[:, i], y_pred[:, i])\n",
    "    roc_auc[i] = auc(fpr[i], tpr[i])"
   ]
  },
  {
   "cell_type": "markdown",
   "metadata": {},
   "source": [
    "Which method is better for multi-class classification in this problem?"
   ]
  },
  {
   "cell_type": "code",
   "execution_count": 307,
   "metadata": {},
   "outputs": [
    {
     "data": {
      "text/html": [
       "<div>\n",
       "<style>\n",
       "    .dataframe thead tr:only-child th {\n",
       "        text-align: right;\n",
       "    }\n",
       "\n",
       "    .dataframe thead th {\n",
       "        text-align: left;\n",
       "    }\n",
       "\n",
       "    .dataframe tbody tr th {\n",
       "        vertical-align: top;\n",
       "    }\n",
       "</style>\n",
       "<table border=\"1\" class=\"dataframe\">\n",
       "  <thead>\n",
       "    <tr style=\"text-align: right;\">\n",
       "      <th></th>\n",
       "      <th>Method</th>\n",
       "      <th>Mean AUC for all 7 classes</th>\n",
       "    </tr>\n",
       "  </thead>\n",
       "  <tbody>\n",
       "    <tr>\n",
       "      <th>0</th>\n",
       "      <td>L1 penalized Multinomial Logistic Regression</td>\n",
       "      <td>0.908</td>\n",
       "    </tr>\n",
       "    <tr>\n",
       "      <th>1</th>\n",
       "      <td>Gaussian NB</td>\n",
       "      <td>0.924</td>\n",
       "    </tr>\n",
       "    <tr>\n",
       "      <th>2</th>\n",
       "      <td>Multinomial NB</td>\n",
       "      <td>0.842</td>\n",
       "    </tr>\n",
       "  </tbody>\n",
       "</table>\n",
       "</div>"
      ],
      "text/plain": [
       "                                         Method  Mean AUC for all 7 classes\n",
       "0  L1 penalized Multinomial Logistic Regression                       0.908\n",
       "1                                   Gaussian NB                       0.924\n",
       "2                                Multinomial NB                       0.842"
      ]
     },
     "execution_count": 307,
     "metadata": {},
     "output_type": "execute_result"
    }
   ],
   "source": [
    "a = pd.DataFrame({\"Method\":[\"L1 penalized Multinomial Logistic Regression\",\"Gaussian NB\",\"Multinomial NB\"],\"Mean AUC for all 7 classes\":[.908,0.924,0.842]})\n",
    "a[['Method','Mean AUC for all 7 classes']]"
   ]
  },
  {
   "cell_type": "markdown",
   "metadata": {},
   "source": [
    "Answer iii. -> The best method for multi-class classification problem is Gaussian NB with AUC = 0.924"
   ]
  }
 ],
 "metadata": {
  "kernelspec": {
   "display_name": "Python 2",
   "language": "python",
   "name": "python2"
  },
  "language_info": {
   "codemirror_mode": {
    "name": "ipython",
    "version": 2
   },
   "file_extension": ".py",
   "mimetype": "text/x-python",
   "name": "python",
   "nbconvert_exporter": "python",
   "pygments_lexer": "ipython2",
   "version": "2.7.14"
  }
 },
 "nbformat": 4,
 "nbformat_minor": 2
}
